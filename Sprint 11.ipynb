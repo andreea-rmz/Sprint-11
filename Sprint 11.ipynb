{
 "cells": [
  {
   "cell_type": "markdown",
   "metadata": {},
   "source": [
    "<b>¡Hola Andrea!</b>\n",
    "\n",
    "Mi nombre es Alejandro Abia y tengo el gusto de revisar tu proyecto.\n",
    "\n",
    "A continuación, encontrarás mis comentarios en celdas pintadas de tres colores (verde, amarillo y rojo), a manera de semáforo. Por favor, <b>no las borres ni muevas de posición</b> mientras dure el proceso de revisión.\n",
    "\n",
    "<div class=\"alert alert-block alert-success\">\n",
    "<b>Éxito</b> <a class=\"tocSkip\"></a>\n",
    "En celdas verdes encontrarás comentarios en relación a tus aciertos y fortalezas.\n",
    "</div>\n",
    "<div class=\"alert alert-block alert-warning\">\n",
    "<b>Atención</b> <a class=\"tocSkip\"></a>\n",
    "Utilizaré el color amarillo para llamar tu atención, expresar algo importante o compartirte alguna idea de valor.\n",
    "</div>\n",
    "<div class=\"alert alert-block alert-danger\">\n",
    "<b>A resolver</b> <a class=\"tocSkip\"></a>\n",
    "En rojo emitiré aquellos puntos que podrían impedir que el proyecto se ejecute correctamente. No son errores, sino oportunidades importantes de mejora.\n",
    "</div>\n",
    "<div class=\"alert alert-block alert-info\">\n",
    "<b>Comentario estudiante</b><a class=\"tocSkip\"></a>\n",
    "Si durante la revisión deseas dejarme algún comentario, por favor utiliza celdas azules como esta.\n",
    "</div>\n",
    "Tu proyecto será considerado aprobado cuando las observaciones en rojo hayan sido atendidas.\n",
    "¡Empecemos!\n"
   ]
  },
  {
   "cell_type": "markdown",
   "metadata": {},
   "source": [
    "# Step 1. Load and prepare data for analysis"
   ]
  },
  {
   "cell_type": "code",
   "execution_count": 1,
   "metadata": {},
   "outputs": [
    {
     "name": "stdout",
     "output_type": "stream",
     "text": [
      "                 EventName         DeviceIDHash  EventTimestamp  ExpId\n",
      "0         MainScreenAppear  4575588528974610257      1564029816    246\n",
      "1         MainScreenAppear  7416695313311560658      1564053102    246\n",
      "2  PaymentScreenSuccessful  3518123091307005509      1564054127    248\n",
      "3         CartScreenAppear  3518123091307005509      1564054127    248\n",
      "4  PaymentScreenSuccessful  6217807653094995999      1564055322    248\n",
      "<class 'pandas.core.frame.DataFrame'>\n",
      "RangeIndex: 244126 entries, 0 to 244125\n",
      "Data columns (total 4 columns):\n",
      " #   Column          Non-Null Count   Dtype \n",
      "---  ------          --------------   ----- \n",
      " 0   EventName       244126 non-null  object\n",
      " 1   DeviceIDHash    244126 non-null  int64 \n",
      " 2   EventTimestamp  244126 non-null  int64 \n",
      " 3   ExpId           244126 non-null  int64 \n",
      "dtypes: int64(3), object(1)\n",
      "memory usage: 7.5+ MB\n"
     ]
    }
   ],
   "source": [
    "import pandas as pd\n",
    "\n",
    "logs = pd.read_csv(\"/datasets/logs_exp_us.csv\", sep=\"\\t\")\n",
    "print(logs.head())\n",
    "logs.info()"
   ]
  },
  {
   "cell_type": "markdown",
   "metadata": {},
   "source": [
    "# Step 2. Data preprocessing"
   ]
  },
  {
   "cell_type": "markdown",
   "metadata": {},
   "source": [
    "## Rename columns"
   ]
  },
  {
   "cell_type": "code",
   "execution_count": 2,
   "metadata": {},
   "outputs": [
    {
     "name": "stdout",
     "output_type": "stream",
     "text": [
      "                     Event               UserId  EventDateTime  Group\n",
      "0         MainScreenAppear  4575588528974610257     1564029816    246\n",
      "1         MainScreenAppear  7416695313311560658     1564053102    246\n",
      "2  PaymentScreenSuccessful  3518123091307005509     1564054127    248\n",
      "3         CartScreenAppear  3518123091307005509     1564054127    248\n",
      "4  PaymentScreenSuccessful  6217807653094995999     1564055322    248\n"
     ]
    }
   ],
   "source": [
    "logs.rename(columns={\"EventName\":\"Event\", \"DeviceIDHash\":\"UserId\",\"EventTimestamp\":\"EventDateTime\", \"ExpId\":\"Group\"},inplace=True)\n",
    "print(logs.head())"
   ]
  },
  {
   "cell_type": "markdown",
   "metadata": {},
   "source": [
    "## Convert columns to date_time format"
   ]
  },
  {
   "cell_type": "code",
   "execution_count": 3,
   "metadata": {},
   "outputs": [],
   "source": [
    "logs[\"EventDateTime\"] = pd.to_datetime(logs[\"EventDateTime\"], unit=\"s\")"
   ]
  },
  {
   "cell_type": "markdown",
   "metadata": {},
   "source": [
    "<div class=\"alert alert-block alert-success\">\n",
    "<b>Celda [3]</b> <a class=\"tocSkip\"></a><br>\n",
    "Has hecho un excelente trabajo al convertir las fechas a un formato datetime. Esto es crucial para cualquier análisis temporal posterior y demuestra un buen manejo de las funciones de pandas.\n",
    "</div>\n"
   ]
  },
  {
   "cell_type": "markdown",
   "metadata": {},
   "source": [
    "## Validate and treat missing data"
   ]
  },
  {
   "cell_type": "code",
   "execution_count": 4,
   "metadata": {},
   "outputs": [
    {
     "name": "stdout",
     "output_type": "stream",
     "text": [
      "Event            0\n",
      "UserId           0\n",
      "EventDateTime    0\n",
      "Group            0\n",
      "dtype: int64\n",
      "<class 'pandas.core.frame.DataFrame'>\n",
      "RangeIndex: 244126 entries, 0 to 244125\n",
      "Data columns (total 4 columns):\n",
      " #   Column         Non-Null Count   Dtype         \n",
      "---  ------         --------------   -----         \n",
      " 0   Event          244126 non-null  object        \n",
      " 1   UserId         244126 non-null  int64         \n",
      " 2   EventDateTime  244126 non-null  datetime64[ns]\n",
      " 3   Group          244126 non-null  int64         \n",
      "dtypes: datetime64[ns](1), int64(2), object(1)\n",
      "memory usage: 7.5+ MB\n"
     ]
    },
    {
     "data": {
      "text/html": [
       "<div>\n",
       "<style scoped>\n",
       "    .dataframe tbody tr th:only-of-type {\n",
       "        vertical-align: middle;\n",
       "    }\n",
       "\n",
       "    .dataframe tbody tr th {\n",
       "        vertical-align: top;\n",
       "    }\n",
       "\n",
       "    .dataframe thead th {\n",
       "        text-align: right;\n",
       "    }\n",
       "</style>\n",
       "<table border=\"1\" class=\"dataframe\">\n",
       "  <thead>\n",
       "    <tr style=\"text-align: right;\">\n",
       "      <th></th>\n",
       "      <th>Event</th>\n",
       "      <th>UserId</th>\n",
       "      <th>EventDateTime</th>\n",
       "      <th>Group</th>\n",
       "    </tr>\n",
       "  </thead>\n",
       "  <tbody>\n",
       "    <tr>\n",
       "      <th>0</th>\n",
       "      <td>MainScreenAppear</td>\n",
       "      <td>4575588528974610257</td>\n",
       "      <td>2019-07-25 04:43:36</td>\n",
       "      <td>246</td>\n",
       "    </tr>\n",
       "    <tr>\n",
       "      <th>1</th>\n",
       "      <td>MainScreenAppear</td>\n",
       "      <td>7416695313311560658</td>\n",
       "      <td>2019-07-25 11:11:42</td>\n",
       "      <td>246</td>\n",
       "    </tr>\n",
       "    <tr>\n",
       "      <th>2</th>\n",
       "      <td>PaymentScreenSuccessful</td>\n",
       "      <td>3518123091307005509</td>\n",
       "      <td>2019-07-25 11:28:47</td>\n",
       "      <td>248</td>\n",
       "    </tr>\n",
       "    <tr>\n",
       "      <th>3</th>\n",
       "      <td>CartScreenAppear</td>\n",
       "      <td>3518123091307005509</td>\n",
       "      <td>2019-07-25 11:28:47</td>\n",
       "      <td>248</td>\n",
       "    </tr>\n",
       "    <tr>\n",
       "      <th>4</th>\n",
       "      <td>PaymentScreenSuccessful</td>\n",
       "      <td>6217807653094995999</td>\n",
       "      <td>2019-07-25 11:48:42</td>\n",
       "      <td>248</td>\n",
       "    </tr>\n",
       "  </tbody>\n",
       "</table>\n",
       "</div>"
      ],
      "text/plain": [
       "                     Event               UserId       EventDateTime  Group\n",
       "0         MainScreenAppear  4575588528974610257 2019-07-25 04:43:36    246\n",
       "1         MainScreenAppear  7416695313311560658 2019-07-25 11:11:42    246\n",
       "2  PaymentScreenSuccessful  3518123091307005509 2019-07-25 11:28:47    248\n",
       "3         CartScreenAppear  3518123091307005509 2019-07-25 11:28:47    248\n",
       "4  PaymentScreenSuccessful  6217807653094995999 2019-07-25 11:48:42    248"
      ]
     },
     "execution_count": 4,
     "metadata": {},
     "output_type": "execute_result"
    }
   ],
   "source": [
    "print(logs.isnull().sum())\n",
    "logs.info()\n",
    "logs.head()"
   ]
  },
  {
   "cell_type": "markdown",
   "metadata": {},
   "source": [
    "<div class=\"alert alert-block alert-success\">\n",
    "<b>Celda [4]</b> <a class=\"tocSkip\"></a><br>\n",
    "Has verificado correctamente los valores nulos en el conjunto de datos. \n",
    "</div>\n"
   ]
  },
  {
   "cell_type": "markdown",
   "metadata": {},
   "source": [
    "## Add extra column for Date"
   ]
  },
  {
   "cell_type": "code",
   "execution_count": 5,
   "metadata": {},
   "outputs": [
    {
     "name": "stdout",
     "output_type": "stream",
     "text": [
      "                     Event               UserId       EventDateTime  Group  \\\n",
      "0         MainScreenAppear  4575588528974610257 2019-07-25 04:43:36    246   \n",
      "1         MainScreenAppear  7416695313311560658 2019-07-25 11:11:42    246   \n",
      "2  PaymentScreenSuccessful  3518123091307005509 2019-07-25 11:28:47    248   \n",
      "3         CartScreenAppear  3518123091307005509 2019-07-25 11:28:47    248   \n",
      "4  PaymentScreenSuccessful  6217807653094995999 2019-07-25 11:48:42    248   \n",
      "\n",
      "         Date  \n",
      "0  2019-07-25  \n",
      "1  2019-07-25  \n",
      "2  2019-07-25  \n",
      "3  2019-07-25  \n",
      "4  2019-07-25  \n"
     ]
    }
   ],
   "source": [
    "logs[\"Date\"] = logs[\"EventDateTime\"].dt.date\n",
    "print(logs.head())\n",
    "logs['Date'] = pd.to_datetime(logs['EventDateTime'].dt.date)"
   ]
  },
  {
   "cell_type": "markdown",
   "metadata": {},
   "source": [
    "# Step 3. Study and validate data"
   ]
  },
  {
   "cell_type": "markdown",
   "metadata": {},
   "source": [
    "## How many events are in the logs?"
   ]
  },
  {
   "cell_type": "code",
   "execution_count": 6,
   "metadata": {},
   "outputs": [
    {
     "name": "stdout",
     "output_type": "stream",
     "text": [
      "MainScreenAppear           119205\n",
      "OffersScreenAppear          46825\n",
      "CartScreenAppear            42731\n",
      "PaymentScreenSuccessful     34313\n",
      "Tutorial                     1052\n",
      "Name: Event, dtype: int64\n",
      "Total events: 244126\n"
     ]
    }
   ],
   "source": [
    "event_type = logs[\"Event\"].value_counts()\n",
    "print(event_type)\n",
    "print(\"Total events:\",logs[\"Event\"].count())"
   ]
  },
  {
   "cell_type": "markdown",
   "metadata": {},
   "source": [
    "<div class=\"alert alert-block alert-warning\">\n",
    "<b>Celda [6]</b> <a class=\"tocSkip\"></a><br>\n",
    "El análisis de eventos por usuario es un buen comienzo. Para profundizar, podrías evaluar la distribución de eventos por usuario usando un gráfico de caja. Esto te permitirá identificar patrones o comportamientos atípicos de manera visual.\n",
    "</div>\n"
   ]
  },
  {
   "cell_type": "markdown",
   "metadata": {},
   "source": [
    "## How many users are there in the logs?"
   ]
  },
  {
   "cell_type": "code",
   "execution_count": 7,
   "metadata": {},
   "outputs": [
    {
     "name": "stdout",
     "output_type": "stream",
     "text": [
      "7551\n"
     ]
    }
   ],
   "source": [
    "unique_users = logs[\"UserId\"].nunique()\n",
    "print(unique_users)"
   ]
  },
  {
   "cell_type": "markdown",
   "metadata": {},
   "source": [
    "## What is the average events by user?"
   ]
  },
  {
   "cell_type": "code",
   "execution_count": 8,
   "metadata": {},
   "outputs": [
    {
     "name": "stdout",
     "output_type": "stream",
     "text": [
      "32.0\n"
     ]
    }
   ],
   "source": [
    "events_by_user = logs.groupby(\"UserId\")[\"Event\"].count()\n",
    "print(events_by_user.mean().round())\n"
   ]
  },
  {
   "cell_type": "markdown",
   "metadata": {},
   "source": [
    "## What period of time is coverd by data?\n",
    "Encuentra la fecha máxima y mínima. Traza un histograma por fecha y hora. ¿Puedes tener seguridad de que tienes datos igualmente completos para todo el periodo? Los eventos más antiguos podrían terminar en los registros de algunos usuarios por razones técnicas y esto podría sesgar el panorama general. Encuentra el momento en el que los datos comienzan a estar completos e ignora la sección anterior. ¿Qué periodo representan realmente los datos?"
   ]
  },
  {
   "cell_type": "code",
   "execution_count": 9,
   "metadata": {},
   "outputs": [
    {
     "name": "stdout",
     "output_type": "stream",
     "text": [
      "2019-07-25 04:43:36 2019-08-07 21:15:17 14\n"
     ]
    }
   ],
   "source": [
    "min_date = logs[\"EventDateTime\"].min()\n",
    "max_date = logs[\"EventDateTime\"].max()\n",
    "dates = logs[\"Date\"].nunique()\n",
    "print(min_date, max_date, dates)"
   ]
  },
  {
   "cell_type": "code",
   "execution_count": 10,
   "metadata": {},
   "outputs": [
    {
     "data": {
      "image/png": "[encoded data removed]",
      "text/plain": [
       "<Figure size 1400x500 with 1 Axes>"
      ]
     },
     "metadata": {},
     "output_type": "display_data"
    }
   ],
   "source": [
    "# Histogram by date\n",
    "import matplotlib.pyplot as plt\n",
    "\n",
    "plt.figure(figsize=(14, 5))\n",
    "logs[\"Date\"].hist(bins=logs[\"Date\"].nunique(), rwidth=0.8)\n",
    "plt.title(\"Events by date\")\n",
    "plt.xlabel(\"Date\")\n",
    "plt.ylabel(\"Events\")\n",
    "plt.xticks(rotation=45)\n",
    "plt.tight_layout()\n",
    "plt.show()"
   ]
  },
  {
   "cell_type": "markdown",
   "metadata": {},
   "source": [
    "<div class=\"alert alert-block alert-success\">\n",
    "<b>Celda [10]</b> <a class=\"tocSkip\"></a><br>\n",
    "Excelente uso de histogramas para visualizar la distribución de eventos por fecha. Esto facilita la identificación de tendencias temporales en los datos y es una herramienta valiosa para el análisis exploratorio.\n",
    "</div>\n"
   ]
  },
  {
   "cell_type": "markdown",
   "metadata": {},
   "source": [
    "The data ranges from July 25th 2019 to August 7th 2019. Histogram shows that days from July 25th to July 31st have very low activity. This might indicate that data is missing. Starting August 1st we see a significant increase in daily events. Considering this, it might be best to narrow down the analysis period from August 1st onwards. "
   ]
  },
  {
   "cell_type": "code",
   "execution_count": 11,
   "metadata": {},
   "outputs": [
    {
     "data": {
      "image/png": "[encoded data removed]",
      "text/plain": [
       "<Figure size 1200x500 with 1 Axes>"
      ]
     },
     "metadata": {},
     "output_type": "display_data"
    }
   ],
   "source": [
    "# Filter data from August 1st onwards\n",
    "\n",
    "logs_filtered = logs[logs[\"Date\"]>=\"2019-08-01\"].copy()\n",
    "plt.figure(figsize=(12,5))\n",
    "logs_filtered[\"Date\"].hist(bins=logs[\"Date\"].nunique())\n",
    "plt.title(\"Events by date (complete data)\")\n",
    "plt.xlabel(\"Date\")\n",
    "plt.ylabel(\"Events\")\n",
    "plt.xticks(rotation=45)\n",
    "plt.tight_layout()\n",
    "plt.show()"
   ]
  },
  {
   "cell_type": "code",
   "execution_count": 12,
   "metadata": {},
   "outputs": [
    {
     "data": {
      "image/png": "[encoded data removed]",
      "text/plain": [
       "<Figure size 1000x400 with 1 Axes>"
      ]
     },
     "metadata": {},
     "output_type": "display_data"
    }
   ],
   "source": [
    "# Histogram by hour using filtered data\n",
    "\n",
    "# extract hour\n",
    "logs_filtered[\"Hour\"] = logs_filtered[\"EventDateTime\"].dt.hour\n",
    "\n",
    "\n",
    "plt.figure(figsize=(10, 4))\n",
    "logs_filtered[\"Hour\"].hist(bins=24, rwidth=0.8)\n",
    "plt.title(\"Events by hour\")\n",
    "plt.xlabel(\"Hour\")\n",
    "plt.ylabel(\"Events\")\n",
    "plt.xticks(range(0, 24)) # show exactly 24 hours\n",
    "plt.tight_layout()\n",
    "plt.show()\n",
    "\n"
   ]
  },
  {
   "cell_type": "markdown",
   "metadata": {},
   "source": [
    "<div class=\"alert alert-block alert-success\">\n",
    "<b>Celda [12]</b> <a class=\"tocSkip\"></a><br>\n",
    "La visualización de eventos por hora es útil para identificar patrones diarios. \n",
    "</div>\n"
   ]
  },
  {
   "cell_type": "markdown",
   "metadata": {},
   "source": [
    "## Were many events and users were lost after excluding oldest data?"
   ]
  },
  {
   "cell_type": "code",
   "execution_count": 13,
   "metadata": {},
   "outputs": [
    {
     "name": "stdout",
     "output_type": "stream",
     "text": [
      "MainScreenAppear           119205\n",
      "OffersScreenAppear          46825\n",
      "CartScreenAppear            42731\n",
      "PaymentScreenSuccessful     34313\n",
      "Tutorial                     1052\n",
      "Name: Event, dtype: int64\n",
      "Total events: 244126\n",
      "\n",
      "Events after removing oldest data:\n",
      "\n",
      " MainScreenAppear           117431\n",
      "OffersScreenAppear          46350\n",
      "CartScreenAppear            42365\n",
      "PaymentScreenSuccessful     34113\n",
      "Tutorial                     1039\n",
      "Name: Event, dtype: int64\n",
      "Total events after filtering: 241298\n",
      "Events deleted: 2828\n"
     ]
    }
   ],
   "source": [
    "event_type = logs[\"Event\"].value_counts()\n",
    "print(event_type)\n",
    "print(\"Total events:\",logs[\"Event\"].count())\n",
    "filtered_event_type = logs_filtered[\"Event\"].value_counts()\n",
    "print(\"\\nEvents after removing oldest data:\")\n",
    "print(\"\\n\",filtered_event_type)\n",
    "print(\"Total events after filtering:\",logs_filtered[\"Event\"].count())\n",
    "print(\"Events deleted:\", 244126-241298)"
   ]
  },
  {
   "cell_type": "markdown",
   "metadata": {},
   "source": [
    "Less than 5% of the data were deleted."
   ]
  },
  {
   "cell_type": "code",
   "execution_count": 14,
   "metadata": {},
   "outputs": [
    {
     "name": "stdout",
     "output_type": "stream",
     "text": [
      "7551\n",
      "\n",
      "Unique users after removing oldest data: 7534\n",
      "Users deleted: 17\n"
     ]
    }
   ],
   "source": [
    "\n",
    "unique_users = logs[\"UserId\"].nunique()\n",
    "print(unique_users) \n",
    "filtered_unique_users = logs_filtered[\"UserId\"].nunique()\n",
    "print(\"\\nUnique users after removing oldest data:\",filtered_unique_users)\n",
    "print(\"Users deleted:\", 7551-7534)"
   ]
  },
  {
   "cell_type": "markdown",
   "metadata": {},
   "source": [
    "Only 17 users were deleted."
   ]
  },
  {
   "cell_type": "markdown",
   "metadata": {},
   "source": [
    "## Make sure you have users of the 3 experimental groups."
   ]
  },
  {
   "cell_type": "code",
   "execution_count": 15,
   "metadata": {},
   "outputs": [
    {
     "name": "stdout",
     "output_type": "stream",
     "text": [
      "Group\n",
      "246    2484\n",
      "247    2513\n",
      "248    2537\n",
      "Name: UserId, dtype: int64\n"
     ]
    }
   ],
   "source": [
    "\n",
    "users_by_group = logs_filtered.groupby(\"Group\")[\"UserId\"].nunique()\n",
    "\n",
    "print(users_by_group)"
   ]
  },
  {
   "cell_type": "markdown",
   "metadata": {},
   "source": [
    "<div class=\"alert alert-success\">\n",
    "<b>Celda [15]</b> <a class=\"tocSkip\"></a><br>\n",
    "Has hecho un buen trabajo al agrupar los usuarios por grupo experimental. Esta agrupación es crucial para evaluar la efectividad de los experimentos A/B y te permitirá realizar comparaciones significativas entre los grupos.\n",
    "</div>\n"
   ]
  },
  {
   "cell_type": "markdown",
   "metadata": {},
   "source": [
    "# Step 4. Study event funnel"
   ]
  },
  {
   "cell_type": "markdown",
   "metadata": {},
   "source": [
    "## See how many events are in the logs and their frequency. Sort them by frequency."
   ]
  },
  {
   "cell_type": "code",
   "execution_count": 16,
   "metadata": {},
   "outputs": [
    {
     "name": "stdout",
     "output_type": "stream",
     "text": [
      "Events by frequency: \n",
      " MainScreenAppear           117431\n",
      "OffersScreenAppear          46350\n",
      "CartScreenAppear            42365\n",
      "PaymentScreenSuccessful     34113\n",
      "Tutorial                     1039\n",
      "Name: Event, dtype: int64\n"
     ]
    }
   ],
   "source": [
    "filtered_event_type = logs_filtered[\"Event\"].value_counts()\n",
    "print(\"Events by frequency:\",\"\\n\",filtered_event_type)"
   ]
  },
  {
   "cell_type": "markdown",
   "metadata": {},
   "source": [
    "## Find the amount of users who made each of these events. Sort the values by user amount. Estimate the proportion of users that made the same action at least once. "
   ]
  },
  {
   "cell_type": "code",
   "execution_count": 17,
   "metadata": {},
   "outputs": [
    {
     "name": "stdout",
     "output_type": "stream",
     "text": [
      "                         Users  Proportion\n",
      "Event                                     \n",
      "MainScreenAppear          7419    0.984736\n",
      "OffersScreenAppear        4593    0.609636\n",
      "CartScreenAppear          3734    0.495620\n",
      "PaymentScreenSuccessful   3539    0.469737\n",
      "Tutorial                   840    0.111495\n"
     ]
    }
   ],
   "source": [
    "# Estimate users by event type\n",
    "users_by_event_type = logs_filtered.groupby(\"Event\")[\"UserId\"].nunique().sort_values(ascending=False)\n",
    "\n",
    "# User proportion by event using filtered_unique_users\n",
    "user_proportion = users_by_event_type / filtered_unique_users \n",
    "\n",
    "# Create chart\n",
    "users_funnel = pd.DataFrame({\"Users\": users_by_event_type,\n",
    "                            \"Proportion\":user_proportion})\n",
    "print(users_funnel)\n",
    "\n",
    "\n"
   ]
  },
  {
   "cell_type": "markdown",
   "metadata": {},
   "source": [
    "<div class=\"alert alert-block alert-warning\">\n",
    "<b>Celda [17]</b> <a class=\"tocSkip\"></a><br>\n",
    "Al calcular la proporción de usuarios por tipo de evento, considera incluir una visualización para mostrar estas proporciones de manera más clara. Un gráfico de barras apiladas podría ser una buena opción para visualizar las diferencias entre tipos de eventos.\n",
    "</div>\n"
   ]
  },
  {
   "cell_type": "markdown",
   "metadata": {},
   "source": [
    "## In what order do you think the actions occurred? Are they all part of a single sequence? It's not necessary to take them into account when calculating the funnel."
   ]
  },
  {
   "cell_type": "markdown",
   "metadata": {},
   "source": [
    "1. Tutorial \n",
    "2. MainScreenAppear\n",
    "3. OffersScreenAppear\n",
    "4. CartScreenAppear\n",
    "5. PaymentScreenSuccesful\n",
    "\n",
    "The tutorial event might not be part of a sequence since it could be watched only by new users. Not every user might have purchased something, so only the last screen (PaymentScreenSuccesful) shows users who went through the entire sequence."
   ]
  },
  {
   "cell_type": "markdown",
   "metadata": {},
   "source": [
    "## Use the users funnel to find the proportion of users that convert from one stage to another.\n",
    "\n"
   ]
  },
  {
   "cell_type": "code",
   "execution_count": 18,
   "metadata": {},
   "outputs": [
    {
     "name": "stdout",
     "output_type": "stream",
     "text": [
      "Conversion rate (Proportion) of MainScreenAppear → OffersScreenAppear: 61.91%\n",
      "Conversion rate (Proportion) of OffersScreenAppear → CartScreenAppear: 81.30%\n",
      "Conversion rate (Proportion) of CartScreenAppear → PaymentScreenSuccessful: 94.78%\n"
     ]
    }
   ],
   "source": [
    "# Create list with sequence of event names\n",
    "\n",
    "event_sequence = [\n",
    "    \"MainScreenAppear\", #index 0\n",
    "    \"OffersScreenAppear\", # i 1\n",
    "    \"CartScreenAppear\", # i 2\n",
    "    \"PaymentScreenSuccessful\" # i 3\n",
    "]\n",
    "# loop to estimate proportion from one stage to the next\n",
    "\n",
    "for i in range(1, len(event_sequence)): # range(1,4) \n",
    "#iterates through each pair of current-previous event\n",
    "    previous_event = event_sequence[i - 1]\n",
    "    current_event = event_sequence[i]\n",
    "# Gets the number of users in every stage, enters users_funnel and extracts number of\n",
    "# unique users in that stage (event)\n",
    "    previous_users = users_funnel.loc[previous_event, \"Users\"]\n",
    "    current_users = users_funnel.loc[current_event, \"Users\"]\n",
    "    \n",
    "    conversion = current_users / previous_users\n",
    "    \n",
    "    print(f\"Conversion rate (Proportion) of {previous_event} → {current_event}: {conversion:.2%}\")\n",
    "    "
   ]
  },
  {
   "cell_type": "markdown",
   "metadata": {},
   "source": [
    "## At which stage are more users lost?"
   ]
  },
  {
   "cell_type": "markdown",
   "metadata": {},
   "source": [
    "The conversion rate from MainScreenAppear to OffersScreenAppear is the lowest, meaning only 62% of the users who visit the app (regardless if they watched the tutorial or not) go to explore offers. Of these users, only 81% add something to their cart and 95% of these users complete their payment."
   ]
  },
  {
   "cell_type": "markdown",
   "metadata": {},
   "source": [
    "## What percentage of users make the entire journey from their first event to payment?"
   ]
  },
  {
   "cell_type": "code",
   "execution_count": 19,
   "metadata": {},
   "outputs": [
    {
     "name": "stdout",
     "output_type": "stream",
     "text": [
      "Global conversion (MainScreen → Payment): 47.70%\n"
     ]
    }
   ],
   "source": [
    "#Estimate global conversion\n",
    "\n",
    "global_conversion = users_funnel.loc[\"PaymentScreenSuccessful\", \"Users\"] / users_funnel.loc[\"MainScreenAppear\", \"Users\"]\n",
    "# .loc[row,column]\n",
    "print(f\"Global conversion (MainScreen → Payment): {global_conversion:.2%}\")"
   ]
  },
  {
   "cell_type": "markdown",
   "metadata": {},
   "source": [
    "Around 47% of the total users than enter the app make a purchase."
   ]
  },
  {
   "cell_type": "markdown",
   "metadata": {},
   "source": [
    "# Step 5. Analysis of experiments result"
   ]
  },
  {
   "cell_type": "markdown",
   "metadata": {},
   "source": [
    "## How many users are in each group?"
   ]
  },
  {
   "cell_type": "code",
   "execution_count": 20,
   "metadata": {},
   "outputs": [
    {
     "name": "stdout",
     "output_type": "stream",
     "text": [
      "Group\n",
      "246    2484\n",
      "247    2513\n",
      "248    2537\n",
      "Name: UserId, dtype: int64\n"
     ]
    }
   ],
   "source": [
    "users_by_group = logs_filtered.groupby(\"Group\")[\"UserId\"].nunique()\n",
    "print(users_by_group)"
   ]
  },
  {
   "cell_type": "markdown",
   "metadata": {},
   "source": [
    "## We have two control groups in A/A test, where we prove mecanisms and calculations. Verify if there is a statistically significant difference among samples 246 and 247."
   ]
  },
  {
   "cell_type": "code",
   "execution_count": 21,
   "metadata": {},
   "outputs": [
    {
     "name": "stdout",
     "output_type": "stream",
     "text": [
      "Users that made a purchase:\n",
      " Group\n",
      "246    1200\n",
      "247    1158\n",
      "248    1181\n",
      "Name: UserId, dtype: int64\n"
     ]
    }
   ],
   "source": [
    "## Filter PaymentScreenSuccesful events and estimate users that made purchases\n",
    "\n",
    "purchases = logs_filtered[logs_filtered[\"Event\"]==\"PaymentScreenSuccessful\"]\n",
    "users_with_purchases = purchases.groupby(\"Group\")[\"UserId\"].nunique()\n",
    "print(\"Users that made a purchase:\\n\", users_with_purchases)"
   ]
  },
  {
   "cell_type": "code",
   "execution_count": 22,
   "metadata": {},
   "outputs": [
    {
     "name": "stdout",
     "output_type": "stream",
     "text": [
      "p-value:  0.11456679313141849\n",
      "Null hypothesis can not be rejected. There is no statistical evidence to show that there is a difference between proportions\n"
     ]
    }
   ],
   "source": [
    "# Set variables for test\n",
    "\n",
    "from scipy import stats as st\n",
    "import numpy as np\n",
    "import math as mth\n",
    "\n",
    "# A/A Groups\n",
    "\n",
    "successes = np.array([users_with_purchases[246],users_with_purchases[247]]) # users that made a purchase\n",
    "trials = np.array([users_by_group[246], users_by_group[247]]) #total users\n",
    "\n",
    "# proportion of purchase success in group 246\n",
    "p1 = successes[0]/trials[0]\n",
    "# proportion of purchase success in group 247\n",
    "p2 = successes[1]/trials[1]\n",
    "\n",
    "# proportion of purchase success in combined dataser\n",
    "p_combined = (successes[0]+successes[1]) / (trials[0]+trials[1])\n",
    "\n",
    "# difference between proportions\n",
    "difference = p1-p2\n",
    "\n",
    "# estimate z value\n",
    "z_value = difference/mth.sqrt(p_combined*(1-p_combined)*(1/trials[0]+1/trials[1]))\n",
    "\n",
    "# set standard normal distribution with mean 0 and standard deviation 1\n",
    "distr = st.norm(0,1)\n",
    "\n",
    "p_value = (1 - distr.cdf(abs(z_value))) * 2\n",
    "\n",
    "print('p-value: ', p_value)\n",
    "alpha = 0.05\n",
    "\n",
    "if (p_value < alpha):\n",
    "    print(\"Reject null hypothesis: There is a significant difference between proportions\")\n",
    "else:\n",
    "    print(\"Null hypothesis can not be rejected. There is no statistical evidence to show that there is a difference between proportions\")\n"
   ]
  },
  {
   "cell_type": "markdown",
   "metadata": {},
   "source": [
    "<div class=\"alert alert-block alert-warning\">\n",
    "<b>Celda [22]</b> <a class=\"tocSkip\"></a><br>\n",
    "Has implementado correctamente la prueba de hipótesis para comparar proporciones. Sin embargo, es importante verificar los supuestos de la prueba, como la independencia de las observaciones y el tamaño suficiente de las muestras, para asegurar que los resultados sean válidos.\n",
    "</div>\n"
   ]
  },
  {
   "cell_type": "markdown",
   "metadata": {},
   "source": [
    "No significant difference between both group's convertion proportions is a good sign. It means our data is consistent and the experiment is well implemented."
   ]
  },
  {
   "cell_type": "markdown",
   "metadata": {},
   "source": [
    "## Select the most popular event. In each of the control groups, find the number of users who performed this action. Find their proportion. Test whether the difference between the groups is statistically significant. Repeat the procedure for all the other events (you'll save time if you create a special function for this test). Can you confirm that the groups were divided correctly?"
   ]
  },
  {
   "cell_type": "code",
   "execution_count": 23,
   "metadata": {},
   "outputs": [
    {
     "name": "stdout",
     "output_type": "stream",
     "text": [
      "MainScreenAppear\n"
     ]
    }
   ],
   "source": [
    "top_event = logs_filtered[\"Event\"].value_counts().idxmax()\n",
    "print(top_event)"
   ]
  },
  {
   "cell_type": "code",
   "execution_count": 24,
   "metadata": {},
   "outputs": [],
   "source": [
    "# Filter top event in groups 246 and 247\n",
    "MainScreenAppear = logs_filtered[(logs_filtered[\"Event\"] == \"MainScreenAppear\") & (logs_filtered[\"Group\"].isin([246,247]))]"
   ]
  },
  {
   "cell_type": "code",
   "execution_count": 25,
   "metadata": {},
   "outputs": [
    {
     "name": "stdout",
     "output_type": "stream",
     "text": [
      "Unique users by group that made a 'MainScreenAppear' event:\n",
      " Group\n",
      "246    2450\n",
      "247    2476\n",
      "Name: UserId, dtype: int64\n"
     ]
    }
   ],
   "source": [
    "# Estimate number of unique users that performed this event by group\n",
    "\n",
    "top_event_users_by_group = MainScreenAppear.groupby(\"Group\")[\"UserId\"].nunique()\n",
    "print(\"Unique users by group that made a 'MainScreenAppear' event:\\n\", top_event_users_by_group)"
   ]
  },
  {
   "cell_type": "code",
   "execution_count": 26,
   "metadata": {},
   "outputs": [
    {
     "name": "stdout",
     "output_type": "stream",
     "text": [
      "Total unique users in groups 246 and 247:\n",
      " Group\n",
      "246    2484\n",
      "247    2513\n",
      "Name: UserId, dtype: int64\n"
     ]
    }
   ],
   "source": [
    "# Total unique users in groups 256 and 247\n",
    "aa_group_total_users = logs_filtered[logs_filtered[\"Group\"].isin([246,247])].groupby(\"Group\")[\"UserId\"].nunique()\n",
    "print(\"Total unique users in groups 246 and 247:\\n\",aa_group_total_users)\n"
   ]
  },
  {
   "cell_type": "code",
   "execution_count": 27,
   "metadata": {},
   "outputs": [
    {
     "name": "stdout",
     "output_type": "stream",
     "text": [
      "Proportion in group 246: 98.63%\n",
      "Proportion in group 247: 98.53%\n"
     ]
    }
   ],
   "source": [
    "# Proportions \n",
    "\n",
    "proportion246 = top_event_users_by_group[246] / aa_group_total_users[246]\n",
    "proportion247 = top_event_users_by_group[247] / aa_group_total_users[247]\n",
    "print(f\"Proportion in group 246: {proportion246:.2%}\")\n",
    "print(f\"Proportion in group 247: {proportion247:.2%}\")"
   ]
  },
  {
   "cell_type": "code",
   "execution_count": 28,
   "metadata": {},
   "outputs": [
    {
     "name": "stdout",
     "output_type": "stream",
     "text": [
      "                     Event  Proportion 246  Proportion 247  p-value  \\\n",
      "0                 Tutorial          0.1119          0.1126   0.9377   \n",
      "1         MainScreenAppear          0.9863          0.9853   0.7571   \n",
      "2       OffersScreenAppear          0.6208          0.6049   0.2481   \n",
      "3         CartScreenAppear          0.5097          0.4926   0.2288   \n",
      "4  PaymentScreenSuccessful          0.4831          0.4608   0.1146   \n",
      "\n",
      "                                          Conclusion  \n",
      "0  Do not reject H0. There no reason to believe t...  \n",
      "1  Do not reject H0. There no reason to believe t...  \n",
      "2  Do not reject H0. There no reason to believe t...  \n",
      "3  Do not reject H0. There no reason to believe t...  \n",
      "4  Do not reject H0. There no reason to believe t...  \n"
     ]
    }
   ],
   "source": [
    "# Create function to test proportion differences between groups\n",
    "\n",
    "def test_proportion(event_name):\n",
    "    # filter logs by events    \n",
    "    event_df = logs_filtered[\n",
    "        (logs_filtered[\"Event\"]== event_name) &\n",
    "        (logs_filtered[\"Group\"].isin([246,247]))\n",
    "    ]\n",
    "    # Users that made the event by group\n",
    "    users_by_group = event_df.groupby(\"Group\")[\"UserId\"].nunique()\n",
    "\n",
    "    # Total users by group (to estimate proportions)\n",
    "    total_by_group = logs_filtered[\n",
    "        logs_filtered[\"Group\"].isin([246, 247])\n",
    "    ].groupby(\"Group\")[\"UserId\"].nunique()\n",
    "\n",
    "    # Test\n",
    "    successes = np.array([users_by_group[246], users_by_group[247]])\n",
    "    trials = np.array([total_by_group[246], total_by_group[247]])\n",
    "\n",
    "    # Single proportions\n",
    "    p1 = successes[0] / trials[0]\n",
    "    p2 = successes[1] / trials[1]\n",
    "\n",
    "    # Combined proportion\n",
    "    p_combined = (successes[0] + successes[1]) / (trials[0] + trials[1])\n",
    "    difference = p1 - p2\n",
    "\n",
    "    # Z Statistic\n",
    "    z_value = difference / mth.sqrt(p_combined * (1 - p_combined) * (1 / trials[0] + 1 / trials[1]))\n",
    "    distr = st.norm(0, 1) \n",
    "    # p-value \n",
    "    allpha = 0.05\n",
    "    p_value = (1 - st.norm(0, 1).cdf(abs(z_value))) * 2\n",
    "\n",
    "    # Evaluate p value vs alpha\n",
    "    if p_value < alpha:\n",
    "        conclusion = \"Reject H0. There is a significative difference among proportions in both groups.\"\n",
    "    else:\n",
    "        conclusion = \"Do not reject H0. There no reason to believe there is a significative difference among proportions in both groups.\"\n",
    "\n",
    "    return (event_name, round(p1, 4), round(p2, 4), round(p_value, 4), conclusion)\n",
    "\n",
    "# Execute test for every event type\n",
    "results = []\n",
    "for event in logs_filtered[\"Event\"].unique():\n",
    "    results.append(test_proportion(event))\n",
    "\n",
    "# Create df with results\n",
    "events_test_df = pd.DataFrame(\n",
    "    results,\n",
    "    columns=[\"Event\", \"Proportion 246\", \"Proportion 247\", \"p-value\", \"Conclusion\"]\n",
    ")\n",
    "\n",
    "# Show results\n",
    "print(events_test_df)\n"
   ]
  },
  {
   "cell_type": "markdown",
   "metadata": {},
   "source": [
    "<div class=\"alert alert-block alert-warning\">\n",
    "<b>Celda [28]</b> <a class=\"tocSkip\"></a><br>\n",
    "Al crear la función para probar diferencias de proporciones, considera incluir un control adicional para verificar la homogeneidad de las varianzas. Esto puede fortalecer la validez de tus conclusiones y asegurar que las comparaciones sean apropiadas.\n",
    "</div>\n"
   ]
  },
  {
   "cell_type": "markdown",
   "metadata": {},
   "source": [
    "Groups 246 and 247 were correctly divided. We compared the proportion of users performing specific events using Z-tests for proportions. \n",
    "P values were all greater than 5%, therefore H0 (user proportions performing an action are the same in both groups) can not be rejected. This means that there is no reason to believe that proportions are different between groups. This confirms that the groups were randomly and evenly split with no biases."
   ]
  },
  {
   "cell_type": "markdown",
   "metadata": {},
   "source": [
    "## Do the same for the group with altered sources. Compare the results with those of each of the control groups for each event in isolation. Compare the results with the combined results of the control groups. What conclusions can you draw from the experiment?"
   ]
  },
  {
   "cell_type": "code",
   "execution_count": 29,
   "metadata": {},
   "outputs": [
    {
     "name": "stdout",
     "output_type": "stream",
     "text": [
      "                   Event               UserId       EventDateTime  Group  \\\n",
      "2828            Tutorial  3737462046622621720 2019-08-01 00:07:28    246   \n",
      "2829    MainScreenAppear  3737462046622621720 2019-08-01 00:08:00    246   \n",
      "2830    MainScreenAppear  3737462046622621720 2019-08-01 00:08:55    246   \n",
      "2831  OffersScreenAppear  3737462046622621720 2019-08-01 00:08:58    246   \n",
      "2832    MainScreenAppear  1433840883824088890 2019-08-01 00:08:59    247   \n",
      "\n",
      "           Date  Hour  \n",
      "2828 2019-08-01     0  \n",
      "2829 2019-08-01     0  \n",
      "2830 2019-08-01     0  \n",
      "2831 2019-08-01     0  \n",
      "2832 2019-08-01     0  \n",
      "<class 'pandas.core.frame.DataFrame'>\n",
      "Int64Index: 241298 entries, 2828 to 244125\n",
      "Data columns (total 6 columns):\n",
      " #   Column         Non-Null Count   Dtype         \n",
      "---  ------         --------------   -----         \n",
      " 0   Event          241298 non-null  object        \n",
      " 1   UserId         241298 non-null  int64         \n",
      " 2   EventDateTime  241298 non-null  datetime64[ns]\n",
      " 3   Group          241298 non-null  int64         \n",
      " 4   Date           241298 non-null  datetime64[ns]\n",
      " 5   Hour           241298 non-null  int64         \n",
      "dtypes: datetime64[ns](2), int64(3), object(1)\n",
      "memory usage: 12.9+ MB\n",
      "None\n"
     ]
    }
   ],
   "source": [
    "print(logs_filtered.head())\n",
    "print(logs_filtered.info())"
   ]
  },
  {
   "cell_type": "code",
   "execution_count": 30,
   "metadata": {},
   "outputs": [
    {
     "name": "stdout",
     "output_type": "stream",
     "text": [
      "                     Event  Group 246  Group 248  p-value  \\\n",
      "0                 Tutorial     0.1119     0.1100   0.8264   \n",
      "1                 Tutorial        NaN     0.1100   0.7653   \n",
      "2         MainScreenAppear     0.9863     0.9827   0.2950   \n",
      "3         MainScreenAppear        NaN     0.9827   0.4587   \n",
      "4       OffersScreenAppear     0.6208     0.6035   0.2084   \n",
      "5       OffersScreenAppear        NaN     0.6035   0.9198   \n",
      "6         CartScreenAppear     0.5097     0.4848   0.0784   \n",
      "7         CartScreenAppear        NaN     0.4848   0.5786   \n",
      "8  PaymentScreenSuccessful     0.4831     0.4655   0.2123   \n",
      "9  PaymentScreenSuccessful        NaN     0.4655   0.7373   \n",
      "\n",
      "                                          Conclusion  Group 247  \n",
      "0  Do not reject H0. No reason to believe there i...        NaN  \n",
      "1  Do not reject H0. No reason to believe there i...     0.1126  \n",
      "2  Do not reject H0. No reason to believe there i...        NaN  \n",
      "3  Do not reject H0. No reason to believe there i...     0.9853  \n",
      "4  Do not reject H0. No reason to believe there i...        NaN  \n",
      "5  Do not reject H0. No reason to believe there i...     0.6049  \n",
      "6  Do not reject H0. No reason to believe there i...        NaN  \n",
      "7  Do not reject H0. No reason to believe there i...     0.4926  \n",
      "8  Do not reject H0. No reason to believe there i...        NaN  \n",
      "9  Do not reject H0. No reason to believe there i...     0.4608  \n"
     ]
    }
   ],
   "source": [
    "# Unique events\n",
    "events= logs_filtered[\"Event\"].unique()\n",
    "\n",
    "# Total users by group\n",
    "users_by_group = logs_filtered.groupby(\"Group\")[\"UserId\"].nunique()\n",
    "\n",
    "# Function to compare altered group vs control group by event\n",
    "\n",
    "def test_event_balance(event, control_group, test_group=248, alpha=0.05):\n",
    "    \n",
    "    # Filter users that made the event in control group\n",
    "   \n",
    "    control_users = logs_filtered[\n",
    "        (logs_filtered[\"Group\"] == control_group) &\n",
    "        (logs_filtered[\"Event\"] == event)\n",
    "    ][\"UserId\"].nunique()\n",
    "    # Filter users that made the event in the test group\n",
    "    test_users = logs_filtered[\n",
    "        (logs_filtered[\"Group\"] == test_group) &\n",
    "        (logs_filtered[\"Event\"] == event)\n",
    "    ][\"UserId\"].nunique()\n",
    "    # Total users (size) by group\n",
    "    control_total = users_by_group[control_group]\n",
    "    test_total = users_by_group[test_group]\n",
    "\n",
    "    # Significance level\n",
    "    \n",
    "    alpha  = 0.05\n",
    "\n",
    "    # Proportions\n",
    "    p1 = control_users / control_total\n",
    "    p2 = test_users / test_total\n",
    "    # Combined \n",
    "    p_combined = (control_users + test_users) / (control_total+test_total)\n",
    "     # Z Statistic\n",
    "    difference = p1-p2\n",
    "    z_value = difference / mth.sqrt(p_combined*(1-p_combined)*(1/control_total + 1/test_total))\n",
    "    distr = st.norm(0,1)\n",
    "    p_value = (1-distr.cdf(abs(z_value)))*2\n",
    "\n",
    "    if p_value < alpha: # if p<0.05, reject H0; if p>0.05, do not reject 0.05 \n",
    "        conclusion = \"Reject H0. There is a significative difference among proportions in both groups.\"\n",
    "    else:\n",
    "        conclusion = \"Do not reject H0. No reason to believe there is a significative difference among proportions in both groups.\"\n",
    "\n",
    "    return {\n",
    "        \"Event\": event,\n",
    "        f\"Group {control_group}\": round(p1, 4),\n",
    "        \"Group 248\": round(p2, 4),\n",
    "        \"p-value\": round(p_value, 4),\n",
    "        \"Conclusion\": conclusion\n",
    "    }\n",
    "\n",
    "# Run function to test each event in test group vs control groups\n",
    "results = []\n",
    "\n",
    "for event in events:\n",
    "    results.append(test_event_balance(event,246))\n",
    "    results.append(test_event_balance(event, 247))\n",
    "df_results = pd.DataFrame(results)\n",
    "print(df_results)\n"
   ]
  },
  {
   "cell_type": "markdown",
   "metadata": {},
   "source": [
    "We can see that the p-value is greater than 0.05 fo all Events and control groups (246 & 247) vs test group (248, group with altered font). This means that the H0 hypothesis can not be rejected. Therefore we can conclude that there is no difference between users in control (246 & 247) vs test groups (248). In the 6th row (CartScreenAppear), a p-value of 0.0784 means that there is a 7.84% chance of observing a difference of 2.49% (Group 246-248) or larger, if there is actually no difference between the groups."
   ]
  },
  {
   "cell_type": "markdown",
   "metadata": {},
   "source": [
    "## What significance level has been set to test the hypotheses mentioned above? Calculate how many statistical hypothesis tests you performed. With a statistical significance level of 0.1, one in 10 results could be false. What should the significance level be? If you wish to change it, repeat the previous steps and check your conclusions."
   ]
  },
  {
   "cell_type": "markdown",
   "metadata": {},
   "source": [
    "Hypotheses above were tested at a significance level of 0.05 (5%). In total 10 hypotheses were tested, 5 events x 2 control groups. Since the probability of getting a type I error (null hypothesis is incorrectly rejected) increases every extra test, the significance level should be adjusted. To fix these we can use the Bonferroni procedure. We need to divide the signigicance level 0.05 by the number of tests we want to perform. 0.05/10 = 0.005 = 0.5 %.\n",
    "Lets repeat the tests with the new significance level. "
   ]
  },
  {
   "cell_type": "code",
   "execution_count": 31,
   "metadata": {},
   "outputs": [
    {
     "name": "stdout",
     "output_type": "stream",
     "text": [
      "                     Event  Group 246  Group 248  p-value  \\\n",
      "0                 Tutorial     0.1119     0.1100   0.8264   \n",
      "1                 Tutorial        NaN     0.1100   0.7653   \n",
      "2         MainScreenAppear     0.9863     0.9827   0.2950   \n",
      "3         MainScreenAppear        NaN     0.9827   0.4587   \n",
      "4       OffersScreenAppear     0.6208     0.6035   0.2084   \n",
      "5       OffersScreenAppear        NaN     0.6035   0.9198   \n",
      "6         CartScreenAppear     0.5097     0.4848   0.0784   \n",
      "7         CartScreenAppear        NaN     0.4848   0.5786   \n",
      "8  PaymentScreenSuccessful     0.4831     0.4655   0.2123   \n",
      "9  PaymentScreenSuccessful        NaN     0.4655   0.7373   \n",
      "\n",
      "                                          Conclusion  Group 247  \n",
      "0  Do not reject H0. No reason to believe there i...        NaN  \n",
      "1  Do not reject H0. No reason to believe there i...     0.1126  \n",
      "2  Do not reject H0. No reason to believe there i...        NaN  \n",
      "3  Do not reject H0. No reason to believe there i...     0.9853  \n",
      "4  Do not reject H0. No reason to believe there i...        NaN  \n",
      "5  Do not reject H0. No reason to believe there i...     0.6049  \n",
      "6  Do not reject H0. No reason to believe there i...        NaN  \n",
      "7  Do not reject H0. No reason to believe there i...     0.4926  \n",
      "8  Do not reject H0. No reason to believe there i...        NaN  \n",
      "9  Do not reject H0. No reason to believe there i...     0.4608  \n"
     ]
    }
   ],
   "source": [
    "# adjusted significance level \n",
    "\n",
    "alpha  = 0.005\n",
    "\n",
    "# Unique events\n",
    "events= logs_filtered[\"Event\"].unique()\n",
    "\n",
    "# Total users by group\n",
    "users_by_group = logs_filtered.groupby(\"Group\")[\"UserId\"].nunique()\n",
    "\n",
    "# Function to compare altered group vs control group by event\n",
    "\n",
    "def test_event_balance(event, control_group, test_group=248, alpha=0.05):\n",
    "    \n",
    "    # Filter users that made the event in control group\n",
    "   \n",
    "    control_users = logs_filtered[\n",
    "        (logs_filtered[\"Group\"] == control_group) &\n",
    "        (logs_filtered[\"Event\"] == event)\n",
    "    ][\"UserId\"].nunique()\n",
    "    # Filter users that made the event in the test group\n",
    "    test_users = logs_filtered[\n",
    "        (logs_filtered[\"Group\"] == test_group) &\n",
    "        (logs_filtered[\"Event\"] == event)\n",
    "    ][\"UserId\"].nunique()\n",
    "    # Total users (size) by group\n",
    "    control_total = users_by_group[control_group]\n",
    "    test_total = users_by_group[test_group]\n",
    "    # Proportions\n",
    "    p1 = control_users / control_total\n",
    "    p2 = test_users / test_total\n",
    "    # Combined \n",
    "    p_combined = (control_users + test_users) / (control_total+test_total)\n",
    "     # Z Statistic\n",
    "    difference = p1-p2\n",
    "    z_value = difference / mth.sqrt(p_combined*(1-p_combined)*(1/control_total + 1/test_total))\n",
    "    distr = st.norm(0,1)\n",
    "    p_value = (1-distr.cdf(abs(z_value)))*2\n",
    "\n",
    "    if p_value < alpha: # if p<0.05, reject H0; if p>0.05, do not reject 0.05 \n",
    "        conclusion = \"Reject H0. There is a significative difference among proportions in both groups.\"\n",
    "    else:\n",
    "        conclusion = \"Do not reject H0. No reason to believe there is a significative difference among proportions in both groups.\"\n",
    "\n",
    "    return {\n",
    "        \"Event\": event,\n",
    "        f\"Group {control_group}\": round(p1, 4),\n",
    "        \"Group 248\": round(p2, 4),\n",
    "        \"p-value\": round(p_value, 4),\n",
    "        \"Conclusion\": conclusion\n",
    "    }\n",
    "\n",
    "# Run function to test each event in test group vs control groups\n",
    "results = []\n",
    "\n",
    "for event in events:\n",
    "    results.append(test_event_balance(event,246))\n",
    "    results.append(test_event_balance(event, 247))\n",
    "df_results = pd.DataFrame(results)\n",
    "print(df_results)\n"
   ]
  },
  {
   "cell_type": "markdown",
   "metadata": {},
   "source": [
    "<div class=\"alert alert-block alert-success\">\n",
    "<b>Comentario final</b> <a class=\"tocSkip\"></a><br>\n",
    "¡Muy buen trabajo, Andrea! A lo largo del proyecto mostraste fortalezas muy claras:\n",
    "- Realizaste una carga de datos eficiente y verificaste correctamente la estructura de los datos iniciales.\n",
    "- Aplicaste correctamente técnicas de conversión de tipos de datos, como el uso de `pd.to_datetime` para manejar fechas.\n",
    "- Implementaste un análisis detallado de eventos por usuario, lo cual es crucial para entender el comportamiento de los usuarios.\n",
    "- Utilizaste visualizaciones efectivas, como histogramas, para identificar tendencias temporales en los datos.\n",
    "- Filtraste los datos de manera lógica para enfocarte en el periodo de interés.\n",
    "- Agrupaste correctamente los datos por grupos experimentales, lo cual es esencial para el análisis A/B.\n",
    "- Calculaste proporciones de usuarios por tipo de evento y consideraste la conversión de usuarios a través de un embudo de eventos.\n",
    "- Implementaste pruebas de hipótesis adecuadas para comparar proporciones entre grupos.\n",
    "- Creaste funciones reutilizables para automatizar el análisis de proporciones, mostrando un enfoque eficiente y escalable.\n",
    "- Mantuviste un flujo de trabajo claro y organizado a lo largo del proyecto.\n",
    "¡Felicidades!\n",
    "</div>\n"
   ]
  },
  {
   "cell_type": "markdown",
   "metadata": {},
   "source": [
    "# Final conclusion: After adjusting significance level, still all p values are greater than 0.005, therefore we can not reject H0 and conclude that there is no significant difference between groups. Global conclusion would be that after altering the fonts of the app, user conversion from one stage to another does not change significantly. "
   ]
  },
  {
   "cell_type": "code",
   "execution_count": null,
   "metadata": {},
   "outputs": [],
   "source": []
  }
 ],
 "metadata": {
  "kernelspec": {
   "display_name": "Python 3 (ipykernel)",
   "language": "python",
   "name": "python3"
  },
  "language_info": {
   "codemirror_mode": {
    "name": "ipython",
    "version": 3
   },
   "file_extension": ".py",
   "mimetype": "text/x-python",
   "name": "python",
   "nbconvert_exporter": "python",
   "pygments_lexer": "ipython3",
   "version": "3.9.23"
  }
 },
 "nbformat": 4,
 "nbformat_minor": 4
}
